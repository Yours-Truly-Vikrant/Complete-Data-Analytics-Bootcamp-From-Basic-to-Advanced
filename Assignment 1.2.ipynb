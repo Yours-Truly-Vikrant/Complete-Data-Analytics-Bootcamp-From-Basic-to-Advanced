{
 "cells": [
  {
   "cell_type": "markdown",
   "id": "064525a7",
   "metadata": {},
   "source": [
    "# Module 2: Control Flow Assignments\n",
    "## Lesson 2.1: Conditional Statements\n",
    "### Assignment 1: Simple if Statement\n",
    "\n",
    "Write a program that asks the user to input a number and prints whether the number is positive.\n",
    "\n",
    "### Assignment 2: if-else Statement\n",
    "\n",
    "Write a program that asks the user to input a number and prints whether the number is positive or negative.\n",
    "\n",
    "### Assignment 3: if-elif-else Statement\n",
    "\n",
    "Write a program that asks the user to input a number and prints whether the number is positive, negative, or zero.\n",
    "\n",
    "### Assignment 4: Nested if Statement\n",
    "\n",
    "Write a program that asks the user to input a number and prints whether the number is positive and even, positive and odd, or negative.\n",
    "\n",
    "## Lesson 2.2: Loops\n",
    "### Assignment 5: for Loop\n",
    "\n",
    "Write a program that prints all the numbers from 1 to 10 using a for loop.\n",
    "\n",
    "### Assignment 6: while Loop\n",
    "\n",
    "Write a program that prints all the numbers from 1 to 10 using a while loop.\n",
    "\n",
    "### Assignment 7: Nested Loops\n",
    "\n",
    "Write a program that prints a 5x5 grid of asterisks (*) using nested loops.\n",
    "\n",
    "### Assignment 8: break Statement\n",
    "\n",
    "Write a program that asks the user to input numbers until they input 0. The program should print the sum of all the input numbers.\n",
    "\n",
    "### Assignment 9: continue Statement\n",
    "\n",
    "Write a program that prints all the numbers from 1 to 10 except 5 using a for loop and continue statement.\n",
    "\n",
    "### Assignment 10: pass Statement\n",
    "\n",
    "Write a program that defines an empty function using the pass statement.\n",
    "\n",
    "### Assignment 11: Combining Loops and Conditionals\n",
    "\n",
    "Write a program that asks the user to input a number and prints all the even numbers from 1 to that number using a for loop.\n",
    "\n",
    "### Assignment 12: Factorial Calculation\n",
    "\n",
    "Write a program that calculates the factorial of a number input by the user using a while loop.\n",
    "\n",
    "### Assignment 13: Sum of Digits\n",
    "\n",
    "Write a program that calculates the sum of the digits of a number input by the user using a while loop.\n",
    "\n",
    "### Assignment 14: Prime Number Check\n",
    "\n",
    "Write a program that checks if a number input by the user is a prime number using a for loop.\n",
    "\n",
    "### Assignment 15: Fibonacci Sequence\n",
    "\n",
    "Write a program that prints the first n Fibonacci numbers, where n is input by the user."
   ]
  },
  {
   "cell_type": "code",
   "execution_count": 11,
   "id": "4acf282f-2fa9-47d1-b8da-2a372fbc6f6e",
   "metadata": {},
   "outputs": [
    {
     "name": "stdin",
     "output_type": "stream",
     "text": [
      "Enter a number 5\n"
     ]
    },
    {
     "name": "stdout",
     "output_type": "stream",
     "text": [
      "5.0\n"
     ]
    }
   ],
   "source": [
    "number=float(input(\"Enter a number\"))\n",
    "if number>0:\n",
    "    print(number)\n",
    "else:\n",
    "    print(\"Number is not positive\")"
   ]
  },
  {
   "cell_type": "code",
   "execution_count": 12,
   "id": "88e605b4-a957-49d0-9d86-d567e9f860b0",
   "metadata": {},
   "outputs": [
    {
     "name": "stdin",
     "output_type": "stream",
     "text": [
      "Enter a number:  0\n"
     ]
    },
    {
     "name": "stdout",
     "output_type": "stream",
     "text": [
      "number is negative\n"
     ]
    }
   ],
   "source": [
    "#Assignment 2\n",
    "number=float(input(\"Enter a number: \"))\n",
    "if number>0:\n",
    "    print(\"number is positive\")\n",
    "else:\n",
    "    print(\"number is negative\")"
   ]
  },
  {
   "cell_type": "code",
   "execution_count": 16,
   "id": "39301f9b-60c5-4a55-802f-2fb2792ea3f2",
   "metadata": {},
   "outputs": [
    {
     "name": "stdin",
     "output_type": "stream",
     "text": [
      "Enter a number:  0\n"
     ]
    },
    {
     "name": "stdout",
     "output_type": "stream",
     "text": [
      "number if zero\n"
     ]
    }
   ],
   "source": [
    "#Assignment 3\n",
    "number=float(input(\"Enter a number: \"))\n",
    "if number>0:\n",
    "    print(\"number is positive\")\n",
    "elif number==0:\n",
    "    print(\"number if zero\")\n",
    "else:\n",
    "    print(\"number is negative\")"
   ]
  },
  {
   "cell_type": "code",
   "execution_count": 21,
   "id": "aeb34f99-0962-43cc-a09d-3b226ae8c79e",
   "metadata": {},
   "outputs": [
    {
     "name": "stdin",
     "output_type": "stream",
     "text": [
      "Enter a number:  -9\n"
     ]
    },
    {
     "name": "stdout",
     "output_type": "stream",
     "text": [
      "number is negative and odd\n"
     ]
    }
   ],
   "source": [
    "#Assignment 4\n",
    "number=float(input(\"Enter a number: \"))\n",
    "if number>0:\n",
    "    if number%2==0:\n",
    "        print(\"number is positive and even\")\n",
    "    else:\n",
    "        print(\"number is positive and odd\")\n",
    "\n",
    "elif number<0:\n",
    "    if number%2==0:\n",
    "        print(\"number is negative and even\")\n",
    "    else:\n",
    "        print(\"number is negative and odd\")\n",
    "    \n",
    "else:\n",
    "    print(\"number is zero\")"
   ]
  },
  {
   "cell_type": "code",
   "execution_count": 23,
   "id": "d0f4b328-2627-4a80-945f-0d9777b8cca7",
   "metadata": {},
   "outputs": [
    {
     "name": "stdout",
     "output_type": "stream",
     "text": [
      "1\n",
      "2\n",
      "3\n",
      "4\n",
      "5\n",
      "6\n",
      "7\n",
      "8\n",
      "9\n",
      "10\n"
     ]
    }
   ],
   "source": [
    "#Assignment 5\n",
    "for i in range(1,11):\n",
    "    print(i)"
   ]
  },
  {
   "cell_type": "code",
   "execution_count": 29,
   "id": "bd2eb1e7-db95-4527-890c-8b6e2c95d997",
   "metadata": {},
   "outputs": [
    {
     "name": "stdout",
     "output_type": "stream",
     "text": [
      "1\n",
      "2\n",
      "3\n",
      "4\n",
      "5\n",
      "6\n",
      "7\n",
      "8\n",
      "9\n",
      "10\n"
     ]
    }
   ],
   "source": [
    "#Assignment 6\n",
    "num=1\n",
    "while num<=10:\n",
    "    print(num)\n",
    "    num=num+1\n",
    "    "
   ]
  },
  {
   "cell_type": "code",
   "execution_count": 32,
   "id": "f2235943-3448-4f5a-b2d6-73e37a29ae63",
   "metadata": {},
   "outputs": [
    {
     "name": "stdout",
     "output_type": "stream",
     "text": [
      "* * * * * \n",
      "* * * * * \n",
      "* * * * * \n",
      "* * * * * \n",
      "* * * * * \n"
     ]
    }
   ],
   "source": [
    "for i in range(5):\n",
    "    for j in range(5):\n",
    "        print(\"*\", end=\" \")\n",
    "    print()"
   ]
  },
  {
   "cell_type": "code",
   "execution_count": 33,
   "id": "b5c1596c-f39c-49f9-b2ef-9cb4535691d0",
   "metadata": {},
   "outputs": [
    {
     "name": "stdin",
     "output_type": "stream",
     "text": [
      "Enter a number (0 to stop):  5\n",
      "Enter a number (0 to stop):  4\n",
      "Enter a number (0 to stop):  1\n",
      "Enter a number (0 to stop):  2\n",
      "Enter a number (0 to stop):  3\n",
      "Enter a number (0 to stop):  6\n",
      "Enter a number (0 to stop):  7\n",
      "Enter a number (0 to stop):  8\n",
      "Enter a number (0 to stop):  9\n",
      "Enter a number (0 to stop):  10\n",
      "Enter a number (0 to stop):  11\n",
      "Enter a number (0 to stop):  12\n",
      "Enter a number (0 to stop):  13\n",
      "Enter a number (0 to stop):  14\n",
      "Enter a number (0 to stop):  15\n",
      "Enter a number (0 to stop):  161\n",
      "Enter a number (0 to stop):  0\n"
     ]
    },
    {
     "name": "stdout",
     "output_type": "stream",
     "text": [
      "The sum of all the numbers is 281.0.\n"
     ]
    }
   ],
   "source": [
    "total = 0\n",
    "while True:\n",
    "    number = float(input(\"Enter a number (0 to stop): \"))\n",
    "    if number == 0:\n",
    "        break\n",
    "    total += number\n",
    "print(f\"The sum of all the numbers is {total}.\")"
   ]
  },
  {
   "cell_type": "code",
   "execution_count": 34,
   "id": "26119a8d-b9a2-49ee-9d6a-5a9ddc54d993",
   "metadata": {},
   "outputs": [
    {
     "name": "stdout",
     "output_type": "stream",
     "text": [
      "1\n",
      "2\n",
      "3\n",
      "4\n",
      "6\n",
      "7\n",
      "8\n",
      "9\n",
      "10\n"
     ]
    }
   ],
   "source": [
    "for i in range(1,11):\n",
    "    if i==5:\n",
    "        continue\n",
    "    print(i)"
   ]
  },
  {
   "cell_type": "code",
   "execution_count": 37,
   "id": "cc59c63d-0579-46f4-9957-d7880420e8a2",
   "metadata": {},
   "outputs": [],
   "source": [
    "def empty_function():\n",
    "    pass\n",
    "empty_function()"
   ]
  },
  {
   "cell_type": "code",
   "execution_count": 40,
   "id": "b5f888d6-0056-4cfc-ac03-d6ed0586226c",
   "metadata": {},
   "outputs": [
    {
     "name": "stdin",
     "output_type": "stream",
     "text": [
      "Enter a number:  5\n"
     ]
    },
    {
     "name": "stdout",
     "output_type": "stream",
     "text": [
      "2\n",
      "4\n"
     ]
    }
   ],
   "source": [
    "num=int(input(\"Enter a number: \"))\n",
    "for i in range(1,num+1):\n",
    "    if i%2==0:\n",
    "        print(i)"
   ]
  },
  {
   "cell_type": "code",
   "execution_count": 43,
   "id": "161de702-a1ca-4c58-bb6f-802c9203f480",
   "metadata": {},
   "outputs": [
    {
     "name": "stdin",
     "output_type": "stream",
     "text": [
      "Enter a number:  5\n"
     ]
    },
    {
     "name": "stdout",
     "output_type": "stream",
     "text": [
      "factorial of 5 is 120\n"
     ]
    }
   ],
   "source": [
    "num=int(input(\"Enter a number: \"))\n",
    "factorial=1\n",
    "i=1\n",
    "while i<=num:\n",
    "    factorial*=i\n",
    "    i+=1\n",
    "\n",
    "print(f'factorial of {num} is {factorial}')\n",
    "    "
   ]
  },
  {
   "cell_type": "code",
   "execution_count": 45,
   "id": "10522aa4-9c9e-4577-8795-4ff862a744c3",
   "metadata": {},
   "outputs": [
    {
     "name": "stdin",
     "output_type": "stream",
     "text": [
      "Enter a number:  5\n"
     ]
    },
    {
     "name": "stdout",
     "output_type": "stream",
     "text": [
      "sum of numbers upto 5 is 15\n"
     ]
    }
   ],
   "source": [
    "num=int(input(\"Enter a number: \"))\n",
    "sum1=0\n",
    "i=1\n",
    "while i<=num:\n",
    "    sum1+=i\n",
    "    i+=1\n",
    "print(f'sum of numbers upto {num} is {sum1}')"
   ]
  },
  {
   "cell_type": "code",
   "execution_count": 47,
   "id": "74bea1d2-e6c6-4fa8-9a06-2024c32a9f3c",
   "metadata": {},
   "outputs": [
    {
     "name": "stdin",
     "output_type": "stream",
     "text": [
      "Enter a number:  8\n"
     ]
    },
    {
     "name": "stdout",
     "output_type": "stream",
     "text": [
      "8 is not a prime number.\n"
     ]
    }
   ],
   "source": [
    "number = int(input(\"Enter a number: \"))\n",
    "is_prime = True\n",
    "if number <= 1:\n",
    "    is_prime = False\n",
    "else:\n",
    "    for i in range(2, int(number ** 0.5) + 1):\n",
    "        if number % i == 0:\n",
    "            is_prime = False\n",
    "            break\n",
    "if is_prime:\n",
    "    print(f\"{number} is a prime number.\")\n",
    "else:\n",
    "    print(f\"{number} is not a prime number.\")"
   ]
  },
  {
   "cell_type": "code",
   "execution_count": 48,
   "id": "985b5de0-2e59-4e65-b7a5-ce24e80081d6",
   "metadata": {},
   "outputs": [
    {
     "name": "stdin",
     "output_type": "stream",
     "text": [
      "Enter the number of Fibonacci numbers to print:  5\n"
     ]
    },
    {
     "name": "stdout",
     "output_type": "stream",
     "text": [
      "0\n",
      "1\n",
      "1\n",
      "2\n",
      "3\n"
     ]
    }
   ],
   "source": [
    "n = int(input(\"Enter the number of Fibonacci numbers to print: \"))\n",
    "a, b = 0, 1\n",
    "count = 0\n",
    "while count < n:\n",
    "    print(a)\n",
    "    a, b = b, a + b\n",
    "    count += 1"
   ]
  }
 ],
 "metadata": {
  "kernelspec": {
   "display_name": "Python 3 (ipykernel)",
   "language": "python",
   "name": "python3"
  },
  "language_info": {
   "codemirror_mode": {
    "name": "ipython",
    "version": 3
   },
   "file_extension": ".py",
   "mimetype": "text/x-python",
   "name": "python",
   "nbconvert_exporter": "python",
   "pygments_lexer": "ipython3",
   "version": "3.12.7"
  }
 },
 "nbformat": 4,
 "nbformat_minor": 5
}
